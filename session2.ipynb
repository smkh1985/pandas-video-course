{
 "cells": [
  {
   "cell_type": "code",
   "execution_count": 21,
   "id": "f167e3cb",
   "metadata": {},
   "outputs": [],
   "source": [
    "import pandas as pd"
   ]
  },
  {
   "cell_type": "code",
   "execution_count": 22,
   "id": "b51cb3ac",
   "metadata": {},
   "outputs": [],
   "source": [
    "students = {\"name\":[\"majid\",\"ali\",\"reza\",\"sara\",\"hasan\",\"mohammad\",\"ahmad\",\"maryam\",\"mina\",\"sahar\"],\n",
    "            \"grade\":[12,5,18,16.5,7,17,19,13,6,8],\n",
    "            \"Gender\":[\"Male\",\"Male\",\"Male\",\"Female\",\"Male\",\"Male\",\"Male\",\"Female\",\"Female\",\"Female\"],\n",
    "            \"Guest\":[True,True,False,False,False,False,False,True,True,False],\n",
    "            \"city\":[\"Tehran\",\"Tehran\",\"Mashhad\",\"Yazd\",\"Shiraz\",\"Tehran\",\"Mashhad\", \"Yazd\",\"Karaj\",\"Tehran\"]}"
   ]
  },
  {
   "cell_type": "markdown",
   "id": "47bba881",
   "metadata": {},
   "source": [
    "### یک دیکشنری دقیقا با ساختار بالا یعنی نام سرستون ها به عنوان کلید ها و مقادیر به صورت یک لیست را میتوان به نوع دیتافریم تبدیل کرد"
   ]
  },
  {
   "cell_type": "code",
   "execution_count": 50,
   "id": "088819f8",
   "metadata": {},
   "outputs": [],
   "source": [
    "df = pd.DataFrame(students)"
   ]
  },
  {
   "cell_type": "code",
   "execution_count": 51,
   "id": "a805fae2",
   "metadata": {},
   "outputs": [
    {
     "data": {
      "text/html": [
       "<div>\n",
       "<style scoped>\n",
       "    .dataframe tbody tr th:only-of-type {\n",
       "        vertical-align: middle;\n",
       "    }\n",
       "\n",
       "    .dataframe tbody tr th {\n",
       "        vertical-align: top;\n",
       "    }\n",
       "\n",
       "    .dataframe thead th {\n",
       "        text-align: right;\n",
       "    }\n",
       "</style>\n",
       "<table border=\"1\" class=\"dataframe\">\n",
       "  <thead>\n",
       "    <tr style=\"text-align: right;\">\n",
       "      <th></th>\n",
       "      <th>name</th>\n",
       "      <th>grade</th>\n",
       "      <th>Gender</th>\n",
       "      <th>Guest</th>\n",
       "      <th>city</th>\n",
       "    </tr>\n",
       "  </thead>\n",
       "  <tbody>\n",
       "    <tr>\n",
       "      <th>0</th>\n",
       "      <td>majid</td>\n",
       "      <td>12.0</td>\n",
       "      <td>Male</td>\n",
       "      <td>True</td>\n",
       "      <td>Tehran</td>\n",
       "    </tr>\n",
       "    <tr>\n",
       "      <th>1</th>\n",
       "      <td>ali</td>\n",
       "      <td>5.0</td>\n",
       "      <td>Male</td>\n",
       "      <td>True</td>\n",
       "      <td>Tehran</td>\n",
       "    </tr>\n",
       "    <tr>\n",
       "      <th>2</th>\n",
       "      <td>reza</td>\n",
       "      <td>18.0</td>\n",
       "      <td>Male</td>\n",
       "      <td>False</td>\n",
       "      <td>Mashhad</td>\n",
       "    </tr>\n",
       "    <tr>\n",
       "      <th>3</th>\n",
       "      <td>sara</td>\n",
       "      <td>16.5</td>\n",
       "      <td>Female</td>\n",
       "      <td>False</td>\n",
       "      <td>Yazd</td>\n",
       "    </tr>\n",
       "    <tr>\n",
       "      <th>4</th>\n",
       "      <td>hasan</td>\n",
       "      <td>7.0</td>\n",
       "      <td>Male</td>\n",
       "      <td>False</td>\n",
       "      <td>Shiraz</td>\n",
       "    </tr>\n",
       "    <tr>\n",
       "      <th>5</th>\n",
       "      <td>mohammad</td>\n",
       "      <td>17.0</td>\n",
       "      <td>Male</td>\n",
       "      <td>False</td>\n",
       "      <td>Tehran</td>\n",
       "    </tr>\n",
       "    <tr>\n",
       "      <th>6</th>\n",
       "      <td>ahmad</td>\n",
       "      <td>19.0</td>\n",
       "      <td>Male</td>\n",
       "      <td>False</td>\n",
       "      <td>Mashhad</td>\n",
       "    </tr>\n",
       "    <tr>\n",
       "      <th>7</th>\n",
       "      <td>maryam</td>\n",
       "      <td>13.0</td>\n",
       "      <td>Female</td>\n",
       "      <td>True</td>\n",
       "      <td>Yazd</td>\n",
       "    </tr>\n",
       "    <tr>\n",
       "      <th>8</th>\n",
       "      <td>mina</td>\n",
       "      <td>6.0</td>\n",
       "      <td>Female</td>\n",
       "      <td>True</td>\n",
       "      <td>Karaj</td>\n",
       "    </tr>\n",
       "    <tr>\n",
       "      <th>9</th>\n",
       "      <td>sahar</td>\n",
       "      <td>8.0</td>\n",
       "      <td>Female</td>\n",
       "      <td>False</td>\n",
       "      <td>Tehran</td>\n",
       "    </tr>\n",
       "  </tbody>\n",
       "</table>\n",
       "</div>"
      ],
      "text/plain": [
       "       name  grade  Gender  Guest     city\n",
       "0     majid   12.0    Male   True   Tehran\n",
       "1       ali    5.0    Male   True   Tehran\n",
       "2      reza   18.0    Male  False  Mashhad\n",
       "3      sara   16.5  Female  False     Yazd\n",
       "4     hasan    7.0    Male  False   Shiraz\n",
       "5  mohammad   17.0    Male  False   Tehran\n",
       "6     ahmad   19.0    Male  False  Mashhad\n",
       "7    maryam   13.0  Female   True     Yazd\n",
       "8      mina    6.0  Female   True    Karaj\n",
       "9     sahar    8.0  Female  False   Tehran"
      ]
     },
     "execution_count": 51,
     "metadata": {},
     "output_type": "execute_result"
    }
   ],
   "source": [
    "df"
   ]
  },
  {
   "cell_type": "markdown",
   "id": "ae3ac232",
   "metadata": {},
   "source": [
    "## برای دسترسی به اندازه دیتا یعنی تعداد ستون ها و تعداد سطر ها میتوان به صورت زیر عمل کرد"
   ]
  },
  {
   "cell_type": "code",
   "execution_count": 26,
   "id": "7139ec09",
   "metadata": {},
   "outputs": [
    {
     "name": "stdout",
     "output_type": "stream",
     "text": [
      "Number of samples: 10\n",
      "Number of features: 5\n"
     ]
    }
   ],
   "source": [
    "nrows , ncols = df.shape\n",
    "print(f\"Number of samples: {nrows}\\nNumber of features: {ncols}\")"
   ]
  },
  {
   "cell_type": "code",
   "execution_count": 30,
   "id": "adc5dcc6",
   "metadata": {},
   "outputs": [
    {
     "name": "stdout",
     "output_type": "stream",
     "text": [
      "Index(['name', 'grade', 'Gender', 'Guest', 'city'], dtype='object')\n",
      "RangeIndex(start=0, stop=10, step=1)\n",
      "[['majid' 12.0 'Male' True 'Tehran']\n",
      " ['ali' 5.0 'Male' True 'Tehran']\n",
      " ['reza' 18.0 'Male' False 'Mashhad']\n",
      " ['sara' 16.5 'Female' False 'Yazd']\n",
      " ['hasan' 7.0 'Male' False 'Shiraz']\n",
      " ['mohammad' 17.0 'Male' False 'Tehran']\n",
      " ['ahmad' 19.0 'Male' False 'Mashhad']\n",
      " ['maryam' 13.0 'Female' True 'Yazd']\n",
      " ['mina' 6.0 'Female' True 'Karaj']\n",
      " ['sahar' 8.0 'Female' False 'Tehran']] <class 'numpy.ndarray'>\n"
     ]
    }
   ],
   "source": [
    "print(df.columns)\n",
    "print(df.index)\n",
    "print(df.values, type(df.values))"
   ]
  },
  {
   "cell_type": "code",
   "execution_count": 32,
   "id": "286118d0",
   "metadata": {},
   "outputs": [
    {
     "data": {
      "text/html": [
       "<div>\n",
       "<style scoped>\n",
       "    .dataframe tbody tr th:only-of-type {\n",
       "        vertical-align: middle;\n",
       "    }\n",
       "\n",
       "    .dataframe tbody tr th {\n",
       "        vertical-align: top;\n",
       "    }\n",
       "\n",
       "    .dataframe thead th {\n",
       "        text-align: right;\n",
       "    }\n",
       "</style>\n",
       "<table border=\"1\" class=\"dataframe\">\n",
       "  <thead>\n",
       "    <tr style=\"text-align: right;\">\n",
       "      <th></th>\n",
       "      <th>name</th>\n",
       "      <th>grade</th>\n",
       "      <th>Gender</th>\n",
       "      <th>Guest</th>\n",
       "      <th>city</th>\n",
       "    </tr>\n",
       "  </thead>\n",
       "  <tbody>\n",
       "    <tr>\n",
       "      <th>0</th>\n",
       "      <td>majid</td>\n",
       "      <td>12.0</td>\n",
       "      <td>Male</td>\n",
       "      <td>True</td>\n",
       "      <td>Tehran</td>\n",
       "    </tr>\n",
       "    <tr>\n",
       "      <th>1</th>\n",
       "      <td>ali</td>\n",
       "      <td>5.0</td>\n",
       "      <td>Male</td>\n",
       "      <td>True</td>\n",
       "      <td>Tehran</td>\n",
       "    </tr>\n",
       "  </tbody>\n",
       "</table>\n",
       "</div>"
      ],
      "text/plain": [
       "    name  grade Gender  Guest    city\n",
       "0  majid   12.0   Male   True  Tehran\n",
       "1    ali    5.0   Male   True  Tehran"
      ]
     },
     "execution_count": 32,
     "metadata": {},
     "output_type": "execute_result"
    }
   ],
   "source": [
    "df.head(n=2)"
   ]
  },
  {
   "cell_type": "code",
   "execution_count": 33,
   "id": "06326afe",
   "metadata": {},
   "outputs": [
    {
     "data": {
      "text/html": [
       "<div>\n",
       "<style scoped>\n",
       "    .dataframe tbody tr th:only-of-type {\n",
       "        vertical-align: middle;\n",
       "    }\n",
       "\n",
       "    .dataframe tbody tr th {\n",
       "        vertical-align: top;\n",
       "    }\n",
       "\n",
       "    .dataframe thead th {\n",
       "        text-align: right;\n",
       "    }\n",
       "</style>\n",
       "<table border=\"1\" class=\"dataframe\">\n",
       "  <thead>\n",
       "    <tr style=\"text-align: right;\">\n",
       "      <th></th>\n",
       "      <th>name</th>\n",
       "      <th>grade</th>\n",
       "      <th>Gender</th>\n",
       "      <th>Guest</th>\n",
       "      <th>city</th>\n",
       "    </tr>\n",
       "  </thead>\n",
       "  <tbody>\n",
       "    <tr>\n",
       "      <th>8</th>\n",
       "      <td>mina</td>\n",
       "      <td>6.0</td>\n",
       "      <td>Female</td>\n",
       "      <td>True</td>\n",
       "      <td>Karaj</td>\n",
       "    </tr>\n",
       "    <tr>\n",
       "      <th>9</th>\n",
       "      <td>sahar</td>\n",
       "      <td>8.0</td>\n",
       "      <td>Female</td>\n",
       "      <td>False</td>\n",
       "      <td>Tehran</td>\n",
       "    </tr>\n",
       "  </tbody>\n",
       "</table>\n",
       "</div>"
      ],
      "text/plain": [
       "    name  grade  Gender  Guest    city\n",
       "8   mina    6.0  Female   True   Karaj\n",
       "9  sahar    8.0  Female  False  Tehran"
      ]
     },
     "execution_count": 33,
     "metadata": {},
     "output_type": "execute_result"
    }
   ],
   "source": [
    "df.tail(2)"
   ]
  },
  {
   "cell_type": "code",
   "execution_count": 34,
   "id": "9f8ddb86",
   "metadata": {},
   "outputs": [
    {
     "name": "stdout",
     "output_type": "stream",
     "text": [
      "<class 'pandas.core.frame.DataFrame'>\n",
      "RangeIndex: 10 entries, 0 to 9\n",
      "Data columns (total 5 columns):\n",
      " #   Column  Non-Null Count  Dtype  \n",
      "---  ------  --------------  -----  \n",
      " 0   name    10 non-null     object \n",
      " 1   grade   10 non-null     float64\n",
      " 2   Gender  10 non-null     object \n",
      " 3   Guest   10 non-null     bool   \n",
      " 4   city    10 non-null     object \n",
      "dtypes: bool(1), float64(1), object(3)\n",
      "memory usage: 458.0+ bytes\n"
     ]
    }
   ],
   "source": [
    "df.info()"
   ]
  },
  {
   "cell_type": "code",
   "execution_count": 38,
   "id": "6a11ac02",
   "metadata": {},
   "outputs": [
    {
     "data": {
      "text/html": [
       "<div>\n",
       "<style scoped>\n",
       "    .dataframe tbody tr th:only-of-type {\n",
       "        vertical-align: middle;\n",
       "    }\n",
       "\n",
       "    .dataframe tbody tr th {\n",
       "        vertical-align: top;\n",
       "    }\n",
       "\n",
       "    .dataframe thead th {\n",
       "        text-align: right;\n",
       "    }\n",
       "</style>\n",
       "<table border=\"1\" class=\"dataframe\">\n",
       "  <thead>\n",
       "    <tr style=\"text-align: right;\">\n",
       "      <th></th>\n",
       "      <th>name</th>\n",
       "      <th>Gender</th>\n",
       "      <th>city</th>\n",
       "    </tr>\n",
       "  </thead>\n",
       "  <tbody>\n",
       "    <tr>\n",
       "      <th>count</th>\n",
       "      <td>10</td>\n",
       "      <td>10</td>\n",
       "      <td>10</td>\n",
       "    </tr>\n",
       "    <tr>\n",
       "      <th>unique</th>\n",
       "      <td>10</td>\n",
       "      <td>2</td>\n",
       "      <td>5</td>\n",
       "    </tr>\n",
       "    <tr>\n",
       "      <th>top</th>\n",
       "      <td>maryam</td>\n",
       "      <td>Male</td>\n",
       "      <td>Tehran</td>\n",
       "    </tr>\n",
       "    <tr>\n",
       "      <th>freq</th>\n",
       "      <td>1</td>\n",
       "      <td>6</td>\n",
       "      <td>4</td>\n",
       "    </tr>\n",
       "  </tbody>\n",
       "</table>\n",
       "</div>"
      ],
      "text/plain": [
       "          name Gender    city\n",
       "count       10     10      10\n",
       "unique      10      2       5\n",
       "top     maryam   Male  Tehran\n",
       "freq         1      6       4"
      ]
     },
     "execution_count": 38,
     "metadata": {},
     "output_type": "execute_result"
    }
   ],
   "source": [
    "df.describe(include=['object'])"
   ]
  },
  {
   "cell_type": "code",
   "execution_count": 42,
   "id": "9f1b47f7",
   "metadata": {},
   "outputs": [
    {
     "data": {
      "text/plain": [
       "0       majid\n",
       "1         ali\n",
       "2        reza\n",
       "3        sara\n",
       "4       hasan\n",
       "5    mohammad\n",
       "6       ahmad\n",
       "7      maryam\n",
       "8        mina\n",
       "9       sahar\n",
       "Name: name, dtype: object"
      ]
     },
     "execution_count": 42,
     "metadata": {},
     "output_type": "execute_result"
    }
   ],
   "source": [
    "df[\"name\"]"
   ]
  },
  {
   "cell_type": "code",
   "execution_count": 43,
   "id": "c0b495bd",
   "metadata": {},
   "outputs": [
    {
     "data": {
      "text/plain": [
       "pandas.core.series.Series"
      ]
     },
     "execution_count": 43,
     "metadata": {},
     "output_type": "execute_result"
    }
   ],
   "source": [
    "type(df[\"name\"])"
   ]
  },
  {
   "cell_type": "code",
   "execution_count": 45,
   "id": "1c570e2c",
   "metadata": {},
   "outputs": [
    {
     "data": {
      "text/plain": [
       "0    12.0\n",
       "1     5.0\n",
       "2    18.0\n",
       "3    16.5\n",
       "4     7.0\n",
       "5    17.0\n",
       "6    19.0\n",
       "7    13.0\n",
       "8     6.0\n",
       "9     8.0\n",
       "Name: grade, dtype: float64"
      ]
     },
     "execution_count": 45,
     "metadata": {},
     "output_type": "execute_result"
    }
   ],
   "source": [
    "df[\"grade\"]"
   ]
  },
  {
   "cell_type": "code",
   "execution_count": 46,
   "id": "f0444e6f",
   "metadata": {},
   "outputs": [
    {
     "data": {
      "text/plain": [
       "0     True\n",
       "1    False\n",
       "2     True\n",
       "3     True\n",
       "4    False\n",
       "5     True\n",
       "6     True\n",
       "7     True\n",
       "8    False\n",
       "9    False\n",
       "Name: grade, dtype: bool"
      ]
     },
     "execution_count": 46,
     "metadata": {},
     "output_type": "execute_result"
    }
   ],
   "source": [
    "df[\"grade\"]>=10"
   ]
  },
  {
   "cell_type": "code",
   "execution_count": 48,
   "id": "4f58a714",
   "metadata": {},
   "outputs": [
    {
     "data": {
      "text/plain": [
       "0    12.0\n",
       "1     5.0\n",
       "2    18.0\n",
       "3    16.5\n",
       "4     7.0\n",
       "5    17.0\n",
       "6    19.0\n",
       "7    13.0\n",
       "8     6.0\n",
       "9     8.0\n",
       "Name: grade, dtype: float64"
      ]
     },
     "execution_count": 48,
     "metadata": {},
     "output_type": "execute_result"
    }
   ],
   "source": [
    "df.grade"
   ]
  },
  {
   "cell_type": "code",
   "execution_count": null,
   "id": "4bfda71a",
   "metadata": {},
   "outputs": [],
   "source": []
  }
 ],
 "metadata": {
  "kernelspec": {
   "display_name": "Python 3",
   "language": "python",
   "name": "python3"
  },
  "language_info": {
   "codemirror_mode": {
    "name": "ipython",
    "version": 3
   },
   "file_extension": ".py",
   "mimetype": "text/x-python",
   "name": "python",
   "nbconvert_exporter": "python",
   "pygments_lexer": "ipython3",
   "version": "3.9.4"
  }
 },
 "nbformat": 4,
 "nbformat_minor": 5
}
