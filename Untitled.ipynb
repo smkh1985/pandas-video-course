{
 "cells": [
  {
   "cell_type": "code",
   "execution_count": 1,
   "id": "d01ee353",
   "metadata": {},
   "outputs": [],
   "source": [
    "import pandas as pd"
   ]
  },
  {
   "cell_type": "code",
   "execution_count": 2,
   "id": "42a5085a",
   "metadata": {},
   "outputs": [],
   "source": [
    "students = {\"majid\":16,\"ali\":14,\"maryam\":18,\"sara\":14.5,\"alireza\":17,\"mohammad reza\":18.5}"
   ]
  },
  {
   "cell_type": "code",
   "execution_count": 3,
   "id": "f292e4af",
   "metadata": {},
   "outputs": [
    {
     "data": {
      "text/plain": [
       "6"
      ]
     },
     "execution_count": 3,
     "metadata": {},
     "output_type": "execute_result"
    }
   ],
   "source": [
    "len(students)"
   ]
  },
  {
   "cell_type": "code",
   "execution_count": 11,
   "id": "7ff25920",
   "metadata": {},
   "outputs": [
    {
     "name": "stdout",
     "output_type": "stream",
     "text": [
      "Average : 16.33\n"
     ]
    }
   ],
   "source": [
    "# students.mean() #AttributeError: 'dict' object has no attribute 'mean'\n",
    "# sum(students)#TypeError: unsupported operand type(s) for +: 'int' and 'str'\n",
    "avg = sum(students.values())/len(students)\n",
    "print(f\"Average : {avg:.2f}\")"
   ]
  },
  {
   "cell_type": "code",
   "execution_count": 16,
   "id": "ae95c902",
   "metadata": {},
   "outputs": [
    {
     "data": {
      "text/plain": [
       "{'maryam': 18, 'alireza': 17, 'mohammad reza': 18.5}"
      ]
     },
     "execution_count": 16,
     "metadata": {},
     "output_type": "execute_result"
    }
   ],
   "source": [
    "# students>avg #TypeError: '>' not supported between instances of 'dict' and 'float'\n",
    "# students.values()>avg #TypeError: '>' not supported between instances of 'dict_values' and 'float'\n",
    "passed_students = {name:grade for name, grade in students.items() if grade>=avg}\n",
    "passed_students"
   ]
  },
  {
   "cell_type": "code",
   "execution_count": 20,
   "id": "2ec46538",
   "metadata": {},
   "outputs": [
    {
     "data": {
      "text/plain": [
       "{'majid': 17.5,\n",
       " 'ali': 15.5,\n",
       " 'maryam': 19.5,\n",
       " 'sara': 16.0,\n",
       " 'alireza': 18.5,\n",
       " 'mohammad reza': 20.0}"
      ]
     },
     "execution_count": 20,
     "metadata": {},
     "output_type": "execute_result"
    }
   ],
   "source": [
    "# students2 = students+1.5 #TypeError: unsupported operand type(s) for +: 'dict' and 'float'\n",
    "# students.values()+1.5 TypeError: unsupported operand type(s) for +: 'dict_values' and 'float'\n",
    "students2 = {name:grade+1.5 for name , grade in students.items()}\n",
    "students2"
   ]
  },
  {
   "cell_type": "code",
   "execution_count": 21,
   "id": "9cc6b7ba",
   "metadata": {},
   "outputs": [],
   "source": [
    "ds = pd.Series(students)"
   ]
  },
  {
   "cell_type": "code",
   "execution_count": 22,
   "id": "e9071d2d",
   "metadata": {},
   "outputs": [
    {
     "data": {
      "text/plain": [
       "pandas.core.series.Series"
      ]
     },
     "execution_count": 22,
     "metadata": {},
     "output_type": "execute_result"
    }
   ],
   "source": [
    "type(ds)"
   ]
  },
  {
   "cell_type": "code",
   "execution_count": 23,
   "id": "da77ba0e",
   "metadata": {},
   "outputs": [
    {
     "data": {
      "text/plain": [
       "majid            16.0\n",
       "ali              14.0\n",
       "maryam           18.0\n",
       "sara             14.5\n",
       "alireza          17.0\n",
       "mohammad reza    18.5\n",
       "dtype: float64"
      ]
     },
     "execution_count": 23,
     "metadata": {},
     "output_type": "execute_result"
    }
   ],
   "source": [
    "ds"
   ]
  },
  {
   "cell_type": "code",
   "execution_count": 24,
   "id": "d3e3df09",
   "metadata": {},
   "outputs": [
    {
     "data": {
      "text/plain": [
       "(pandas.core.series.Series, dtype('float64'))"
      ]
     },
     "execution_count": 24,
     "metadata": {},
     "output_type": "execute_result"
    }
   ],
   "source": [
    "type(ds) , ds.dtype"
   ]
  },
  {
   "cell_type": "code",
   "execution_count": 26,
   "id": "f8347c59",
   "metadata": {},
   "outputs": [
    {
     "name": "stdout",
     "output_type": "stream",
     "text": [
      "dict_keys(['majid', 'ali', 'maryam', 'sara', 'alireza', 'mohammad reza'])\n",
      "dict_values([16, 14, 18, 14.5, 17, 18.5])\n"
     ]
    }
   ],
   "source": [
    "print(students.keys())\n",
    "print(students.values())"
   ]
  },
  {
   "cell_type": "code",
   "execution_count": 28,
   "id": "ad537d28",
   "metadata": {},
   "outputs": [
    {
     "name": "stdout",
     "output_type": "stream",
     "text": [
      "Index(['majid', 'ali', 'maryam', 'sara', 'alireza', 'mohammad reza'], dtype='object') <class 'pandas.core.indexes.base.Index'>\n",
      "[16.  14.  18.  14.5 17.  18.5] <class 'numpy.ndarray'>\n"
     ]
    }
   ],
   "source": [
    "print(ds.index , type(ds.index))\n",
    "print(ds.values , type(ds.values))\n"
   ]
  },
  {
   "cell_type": "markdown",
   "id": "c51df9d7",
   "metadata": {},
   "source": [
    "# دسترسی به عناصر دیکشنری و پانداس سریز"
   ]
  },
  {
   "cell_type": "code",
   "execution_count": 29,
   "id": "3302c3d0",
   "metadata": {},
   "outputs": [
    {
     "data": {
      "text/plain": [
       "16"
      ]
     },
     "execution_count": 29,
     "metadata": {},
     "output_type": "execute_result"
    }
   ],
   "source": [
    "students[\"majid\"]"
   ]
  },
  {
   "cell_type": "code",
   "execution_count": 33,
   "id": "79975c86",
   "metadata": {},
   "outputs": [
    {
     "data": {
      "text/plain": [
       "(16.0, 16.0, 16.0)"
      ]
     },
     "execution_count": 33,
     "metadata": {},
     "output_type": "execute_result"
    }
   ],
   "source": [
    "ds[\"majid\"] , ds[0] , ds.majid"
   ]
  },
  {
   "cell_type": "code",
   "execution_count": 36,
   "id": "8954aebe",
   "metadata": {},
   "outputs": [],
   "source": [
    "# students[\"majid\",\"ali\"] #KeyError: ('majid', 'ali')\n",
    "# students[[\"majid\",\"ali\"]] # TypeError: unhashable type: 'list'"
   ]
  },
  {
   "cell_type": "code",
   "execution_count": 40,
   "id": "e54daf04",
   "metadata": {},
   "outputs": [
    {
     "data": {
      "text/plain": [
       "majid    16.0\n",
       "ali      14.0\n",
       "dtype: float64"
      ]
     },
     "execution_count": 40,
     "metadata": {},
     "output_type": "execute_result"
    }
   ],
   "source": [
    "ds[[\"majid\",\"ali\"]]"
   ]
  },
  {
   "cell_type": "code",
   "execution_count": 41,
   "id": "1488e340",
   "metadata": {},
   "outputs": [
    {
     "data": {
      "text/plain": [
       "majid            16.0\n",
       "mohammad reza    18.5\n",
       "dtype: float64"
      ]
     },
     "execution_count": 41,
     "metadata": {},
     "output_type": "execute_result"
    }
   ],
   "source": [
    "ds[[0,-1]]"
   ]
  },
  {
   "cell_type": "code",
   "execution_count": 42,
   "id": "b8e8be2e",
   "metadata": {},
   "outputs": [
    {
     "data": {
      "text/plain": [
       "majid     16.0\n",
       "ali       14.0\n",
       "maryam    18.0\n",
       "dtype: float64"
      ]
     },
     "execution_count": 42,
     "metadata": {},
     "output_type": "execute_result"
    }
   ],
   "source": [
    "ds[:3]"
   ]
  },
  {
   "cell_type": "code",
   "execution_count": 43,
   "id": "55843b6c",
   "metadata": {},
   "outputs": [
    {
     "data": {
      "text/plain": [
       "majid     16.0\n",
       "ali       14.0\n",
       "maryam    18.0\n",
       "sara      14.5\n",
       "dtype: float64"
      ]
     },
     "execution_count": 43,
     "metadata": {},
     "output_type": "execute_result"
    }
   ],
   "source": [
    "ds[\"majid\":\"sara\"]"
   ]
  },
  {
   "cell_type": "code",
   "execution_count": 45,
   "id": "c533a64a",
   "metadata": {},
   "outputs": [
    {
     "data": {
      "text/plain": [
       "majid            16.0\n",
       "mohammad reza    18.5\n",
       "dtype: float64"
      ]
     },
     "execution_count": 45,
     "metadata": {},
     "output_type": "execute_result"
    }
   ],
   "source": [
    "ds[[True,False,False,False,False,True]]"
   ]
  },
  {
   "cell_type": "code",
   "execution_count": 47,
   "id": "bbf34d82",
   "metadata": {},
   "outputs": [
    {
     "data": {
      "text/plain": [
       "16.333333333333332"
      ]
     },
     "execution_count": 47,
     "metadata": {},
     "output_type": "execute_result"
    }
   ],
   "source": [
    "ds.mean()"
   ]
  },
  {
   "cell_type": "code",
   "execution_count": 56,
   "id": "2014d9fd",
   "metadata": {},
   "outputs": [
    {
     "data": {
      "text/plain": [
       "(pandas.core.series.Series, dtype('bool'))"
      ]
     },
     "execution_count": 56,
     "metadata": {},
     "output_type": "execute_result"
    }
   ],
   "source": [
    "filt = ds>ds.mean()\n",
    "type(filt) , filt.dtype"
   ]
  },
  {
   "cell_type": "code",
   "execution_count": 57,
   "id": "ffa662cc",
   "metadata": {},
   "outputs": [
    {
     "data": {
      "text/plain": [
       "maryam           18.0\n",
       "alireza          17.0\n",
       "mohammad reza    18.5\n",
       "dtype: float64"
      ]
     },
     "execution_count": 57,
     "metadata": {},
     "output_type": "execute_result"
    }
   ],
   "source": [
    "ds[filt]"
   ]
  },
  {
   "cell_type": "code",
   "execution_count": 61,
   "id": "2a72defb",
   "metadata": {},
   "outputs": [
    {
     "data": {
      "text/plain": [
       "maryam           18.0\n",
       "alireza          17.0\n",
       "mohammad reza    18.5\n",
       "dtype: float64"
      ]
     },
     "execution_count": 61,
     "metadata": {},
     "output_type": "execute_result"
    }
   ],
   "source": [
    "ds[ds>ds.mean()]"
   ]
  },
  {
   "cell_type": "code",
   "execution_count": 58,
   "id": "d3c15e82",
   "metadata": {},
   "outputs": [],
   "source": [
    "ds2 = ds+1.5"
   ]
  },
  {
   "cell_type": "code",
   "execution_count": 59,
   "id": "1139f5dd",
   "metadata": {},
   "outputs": [
    {
     "data": {
      "text/plain": [
       "majid            16.0\n",
       "ali              14.0\n",
       "maryam           18.0\n",
       "sara             14.5\n",
       "alireza          17.0\n",
       "mohammad reza    18.5\n",
       "dtype: float64"
      ]
     },
     "execution_count": 59,
     "metadata": {},
     "output_type": "execute_result"
    }
   ],
   "source": [
    "ds"
   ]
  },
  {
   "cell_type": "code",
   "execution_count": 60,
   "id": "a4c04564",
   "metadata": {},
   "outputs": [
    {
     "data": {
      "text/plain": [
       "majid            17.5\n",
       "ali              15.5\n",
       "maryam           19.5\n",
       "sara             16.0\n",
       "alireza          18.5\n",
       "mohammad reza    20.0\n",
       "dtype: float64"
      ]
     },
     "execution_count": 60,
     "metadata": {},
     "output_type": "execute_result"
    }
   ],
   "source": [
    "ds2"
   ]
  },
  {
   "cell_type": "markdown",
   "id": "eec1e233",
   "metadata": {},
   "source": [
    "1- نام دانشجویانی که از میانه کلاس بیشتر شده اند\n",
    "2- نام و نمرات دانشجویانی که پاس شده اند\n",
    "3- نمرات دانشجویان دختر\n",
    "4- نمرات دانشجویان را به بازه 0 و 1 نرمال کنید. "
   ]
  },
  {
   "cell_type": "markdown",
   "id": "a4f055f6",
   "metadata": {},
   "source": [
    "# $x_n = \\frac{x-min(x)}{max(x)-min(x)}$"
   ]
  },
  {
   "cell_type": "code",
   "execution_count": null,
   "id": "2aada2e1",
   "metadata": {},
   "outputs": [],
   "source": []
  }
 ],
 "metadata": {
  "kernelspec": {
   "display_name": "Python 3",
   "language": "python",
   "name": "python3"
  },
  "language_info": {
   "codemirror_mode": {
    "name": "ipython",
    "version": 3
   },
   "file_extension": ".py",
   "mimetype": "text/x-python",
   "name": "python",
   "nbconvert_exporter": "python",
   "pygments_lexer": "ipython3",
   "version": "3.9.4"
  }
 },
 "nbformat": 4,
 "nbformat_minor": 5
}
